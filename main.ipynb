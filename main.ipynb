{
 "cells": [
  {
   "cell_type": "code",
   "execution_count": 238,
   "metadata": {},
   "outputs": [],
   "source": [
    "import random\n",
    "import nltk\n",
    "from nltk.util import ngrams"
   ]
  },
  {
   "cell_type": "code",
   "execution_count": 239,
   "metadata": {},
   "outputs": [],
   "source": [
    "def clean_poems(writers):\n",
    "    \"\"\"\n",
    "    Generates a dataset of poems from the specified authors.\n",
    "\n",
    "    Args:\n",
    "        writers: A list of author names.\n",
    "\n",
    "    Returns:\n",
    "        A dataset of poems.\n",
    "    \"\"\"\n",
    "\n",
    "    datasets = []\n",
    "    for writer in writers:\n",
    "        with open(f\"raw/{writer}.txt\", \"r\") as f:\n",
    "            data = f.readlines()\n",
    "\n",
    "        if not data:\n",
    "            print(f\"No poems found for author '{writer}'\")\n",
    "            continue\n",
    "\n",
    "        data = [d.strip() for d in data]\n",
    "        data = [d for d in data if d]\n",
    "\n",
    "        datasets.append([d.lower().split() for d in data])\n",
    "\n",
    "    return datasets"
   ]
  },
  {
   "cell_type": "code",
   "execution_count": 240,
   "metadata": {},
   "outputs": [],
   "source": [
    "def generate_poem(dataset, n):\n",
    "    \"\"\"\n",
    "    Generates a poem of the specified length from the given dataset.\n",
    "\n",
    "    Args:\n",
    "        dataset: A dataset of poems.\n",
    "        n: The length of the poem to generate.\n",
    "\n",
    "    Returns:\n",
    "        A generated poem.\n",
    "    \"\"\"\n",
    "\n",
    "    model = ngrams(dataset, n)\n",
    "\n",
    "    poem = []\n",
    "    for i in range(n):\n",
    "        ngram = next(model)\n",
    "        join_ngram = [\" \".join(a) for a in ngram]\n",
    "        poem.append(\" \\n\".join(join_ngram))\n",
    "\n",
    "    return \" \".join(poem)"
   ]
  },
  {
   "cell_type": "code",
   "execution_count": 241,
   "metadata": {},
   "outputs": [
    {
     "name": "stdout",
     "output_type": "stream",
     "text": [
      "la lejanía \n",
      "el poeta dice que la lejanía \n",
      "es como una sombra que lo persigue, el poeta dice que la lejanía \n",
      "es como una sombra que lo persigue, \n",
      "una sombra que le recuerda es como una sombra que lo persigue, \n",
      "una sombra que le recuerda \n",
      "que nunca podrá volver a casa.\n",
      "amé, fui amado, el sol acarició mi faz. \n",
      "¡vida, nada me debes! ¡vida, estamos en paz! \n",
      "mas tú no me dijiste que mayo fuese eterno. ¡vida, nada me debes! ¡vida, estamos en paz! \n",
      "mas tú no me dijiste que mayo fuese eterno. \n",
      "hallé sin duda largas las noches de mis penas; mas tú no me dijiste que mayo fuese eterno. \n",
      "hallé sin duda largas las noches de mis penas; \n",
      "mas no me prometiste tan sólo noches buenas;\n",
      "el amor \n",
      "el amor es una piedra preciosa \n",
      "que brilla en la oscuridad. el amor es una piedra preciosa \n",
      "que brilla en la oscuridad. \n",
      "es una flor que florece en el desierto. que brilla en la oscuridad. \n",
      "es una flor que florece en el desierto. \n",
      "es una canción que se canta en el corazón.\n"
     ]
    }
   ],
   "source": [
    "    writers = [\"paz\", \"nervo\", \"marquez\"]\n",
    "\n",
    "    datasets = clean_poems(writers)\n",
    "\n",
    "    for dataset in datasets:\n",
    "        print(generate_poem(dataset, 3))"
   ]
  }
 ],
 "metadata": {
  "kernelspec": {
   "display_name": ".venv",
   "language": "python",
   "name": "python3"
  },
  "language_info": {
   "codemirror_mode": {
    "name": "ipython",
    "version": 3
   },
   "file_extension": ".py",
   "mimetype": "text/x-python",
   "name": "python",
   "nbconvert_exporter": "python",
   "pygments_lexer": "ipython3",
   "version": "3.11.5"
  }
 },
 "nbformat": 4,
 "nbformat_minor": 2
}
